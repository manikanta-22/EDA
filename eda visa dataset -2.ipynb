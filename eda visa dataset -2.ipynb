{
 "cells": [
  {
   "cell_type": "markdown",
   "id": "7700a533",
   "metadata": {},
   "source": [
    "- reading data peform retrive data operations\n",
    "\n",
    "- categorical analysis\n",
    "\n",
    "- numerical analysis\n",
    "\n",
    "- outlier analysis\n",
    "\n",
    "- missing values analysis\n",
    "\n",
    "- data conversions\n",
    "\n",
    "- standaradization and normalization of the data"
   ]
  },
  {
   "cell_type": "code",
   "execution_count": 2,
   "id": "29be33f9",
   "metadata": {},
   "outputs": [],
   "source": [
    "import pandas as pd\n",
    "import numpy as np\n",
    "import matplotlib.pyplot as plt\n",
    "import seaborn as sns"
   ]
  },
  {
   "cell_type": "code",
   "execution_count": 3,
   "id": "5a5c8f09",
   "metadata": {},
   "outputs": [],
   "source": [
    "file_name=\"C:\\\\Users\\\\ASUS\\\\Downloads\\\\Visadataset.csv\"\n",
    "visa_dataset=pd.read_csv(file_name)"
   ]
  },
  {
   "cell_type": "code",
   "execution_count": 4,
   "id": "556475bc",
   "metadata": {},
   "outputs": [
    {
     "data": {
      "text/html": [
       "<div>\n",
       "<style scoped>\n",
       "    .dataframe tbody tr th:only-of-type {\n",
       "        vertical-align: middle;\n",
       "    }\n",
       "\n",
       "    .dataframe tbody tr th {\n",
       "        vertical-align: top;\n",
       "    }\n",
       "\n",
       "    .dataframe thead th {\n",
       "        text-align: right;\n",
       "    }\n",
       "</style>\n",
       "<table border=\"1\" class=\"dataframe\">\n",
       "  <thead>\n",
       "    <tr style=\"text-align: right;\">\n",
       "      <th></th>\n",
       "      <th>case_id</th>\n",
       "      <th>continent</th>\n",
       "      <th>education_of_employee</th>\n",
       "      <th>has_job_experience</th>\n",
       "      <th>requires_job_training</th>\n",
       "      <th>no_of_employees</th>\n",
       "      <th>yr_of_estab</th>\n",
       "      <th>region_of_employment</th>\n",
       "      <th>prevailing_wage</th>\n",
       "      <th>unit_of_wage</th>\n",
       "      <th>full_time_position</th>\n",
       "      <th>case_status</th>\n",
       "    </tr>\n",
       "  </thead>\n",
       "  <tbody>\n",
       "    <tr>\n",
       "      <th>0</th>\n",
       "      <td>EZYV01</td>\n",
       "      <td>Asia</td>\n",
       "      <td>High School</td>\n",
       "      <td>N</td>\n",
       "      <td>N</td>\n",
       "      <td>14513</td>\n",
       "      <td>2007</td>\n",
       "      <td>West</td>\n",
       "      <td>592.2029</td>\n",
       "      <td>Hour</td>\n",
       "      <td>Y</td>\n",
       "      <td>Denied</td>\n",
       "    </tr>\n",
       "    <tr>\n",
       "      <th>1</th>\n",
       "      <td>EZYV02</td>\n",
       "      <td>Asia</td>\n",
       "      <td>Master's</td>\n",
       "      <td>Y</td>\n",
       "      <td>N</td>\n",
       "      <td>2412</td>\n",
       "      <td>2002</td>\n",
       "      <td>Northeast</td>\n",
       "      <td>83425.6500</td>\n",
       "      <td>Year</td>\n",
       "      <td>Y</td>\n",
       "      <td>Certified</td>\n",
       "    </tr>\n",
       "    <tr>\n",
       "      <th>2</th>\n",
       "      <td>EZYV03</td>\n",
       "      <td>Asia</td>\n",
       "      <td>Bachelor's</td>\n",
       "      <td>N</td>\n",
       "      <td>Y</td>\n",
       "      <td>44444</td>\n",
       "      <td>2008</td>\n",
       "      <td>West</td>\n",
       "      <td>122996.8600</td>\n",
       "      <td>Year</td>\n",
       "      <td>Y</td>\n",
       "      <td>Denied</td>\n",
       "    </tr>\n",
       "    <tr>\n",
       "      <th>3</th>\n",
       "      <td>EZYV04</td>\n",
       "      <td>Asia</td>\n",
       "      <td>Bachelor's</td>\n",
       "      <td>N</td>\n",
       "      <td>N</td>\n",
       "      <td>98</td>\n",
       "      <td>1897</td>\n",
       "      <td>West</td>\n",
       "      <td>83434.0300</td>\n",
       "      <td>Year</td>\n",
       "      <td>Y</td>\n",
       "      <td>Denied</td>\n",
       "    </tr>\n",
       "    <tr>\n",
       "      <th>4</th>\n",
       "      <td>EZYV05</td>\n",
       "      <td>Africa</td>\n",
       "      <td>Master's</td>\n",
       "      <td>Y</td>\n",
       "      <td>N</td>\n",
       "      <td>1082</td>\n",
       "      <td>2005</td>\n",
       "      <td>South</td>\n",
       "      <td>149907.3900</td>\n",
       "      <td>Year</td>\n",
       "      <td>Y</td>\n",
       "      <td>Certified</td>\n",
       "    </tr>\n",
       "  </tbody>\n",
       "</table>\n",
       "</div>"
      ],
      "text/plain": [
       "  case_id continent education_of_employee has_job_experience  \\\n",
       "0  EZYV01      Asia           High School                  N   \n",
       "1  EZYV02      Asia              Master's                  Y   \n",
       "2  EZYV03      Asia            Bachelor's                  N   \n",
       "3  EZYV04      Asia            Bachelor's                  N   \n",
       "4  EZYV05    Africa              Master's                  Y   \n",
       "\n",
       "  requires_job_training  no_of_employees  yr_of_estab region_of_employment  \\\n",
       "0                     N            14513         2007                 West   \n",
       "1                     N             2412         2002            Northeast   \n",
       "2                     Y            44444         2008                 West   \n",
       "3                     N               98         1897                 West   \n",
       "4                     N             1082         2005                South   \n",
       "\n",
       "   prevailing_wage unit_of_wage full_time_position case_status  \n",
       "0         592.2029         Hour                  Y      Denied  \n",
       "1       83425.6500         Year                  Y   Certified  \n",
       "2      122996.8600         Year                  Y      Denied  \n",
       "3       83434.0300         Year                  Y      Denied  \n",
       "4      149907.3900         Year                  Y   Certified  "
      ]
     },
     "execution_count": 4,
     "metadata": {},
     "output_type": "execute_result"
    }
   ],
   "source": [
    "visa_dataset.head()"
   ]
  },
  {
   "cell_type": "code",
   "execution_count": 4,
   "id": "e43335a6",
   "metadata": {},
   "outputs": [
    {
     "data": {
      "text/plain": [
       "case_id                   object\n",
       "continent                 object\n",
       "education_of_employee     object\n",
       "has_job_experience        object\n",
       "requires_job_training     object\n",
       "no_of_employees            int64\n",
       "yr_of_estab                int64\n",
       "region_of_employment      object\n",
       "prevailing_wage          float64\n",
       "unit_of_wage              object\n",
       "full_time_position        object\n",
       "case_status               object\n",
       "dtype: object"
      ]
     },
     "execution_count": 4,
     "metadata": {},
     "output_type": "execute_result"
    }
   ],
   "source": [
    "visa_dataset.dtypes"
   ]
  },
  {
   "cell_type": "markdown",
   "id": "034710fd",
   "metadata": {},
   "source": [
    "**How to read a specific column**\n",
    "\n",
    "- iloc\n",
    " \n",
    "- loc\n",
    "\n",
    "- take"
   ]
  },
  {
   "cell_type": "code",
   "execution_count": 5,
   "id": "1a7d1278",
   "metadata": {},
   "outputs": [
    {
     "data": {
      "text/plain": [
       "0          Asia\n",
       "1          Asia\n",
       "2          Asia\n",
       "3          Asia\n",
       "4        Africa\n",
       "          ...  \n",
       "25475      Asia\n",
       "25476      Asia\n",
       "25477      Asia\n",
       "25478      Asia\n",
       "25479      Asia\n",
       "Name: continent, Length: 25480, dtype: object"
      ]
     },
     "execution_count": 5,
     "metadata": {},
     "output_type": "execute_result"
    }
   ],
   "source": [
    "visa_dataset['continent']"
   ]
  },
  {
   "cell_type": "code",
   "execution_count": 6,
   "id": "a2119c05",
   "metadata": {},
   "outputs": [
    {
     "data": {
      "text/html": [
       "<div>\n",
       "<style scoped>\n",
       "    .dataframe tbody tr th:only-of-type {\n",
       "        vertical-align: middle;\n",
       "    }\n",
       "\n",
       "    .dataframe tbody tr th {\n",
       "        vertical-align: top;\n",
       "    }\n",
       "\n",
       "    .dataframe thead th {\n",
       "        text-align: right;\n",
       "    }\n",
       "</style>\n",
       "<table border=\"1\" class=\"dataframe\">\n",
       "  <thead>\n",
       "    <tr style=\"text-align: right;\">\n",
       "      <th></th>\n",
       "      <th>continent</th>\n",
       "      <th>education_of_employee</th>\n",
       "    </tr>\n",
       "  </thead>\n",
       "  <tbody>\n",
       "    <tr>\n",
       "      <th>0</th>\n",
       "      <td>Asia</td>\n",
       "      <td>High School</td>\n",
       "    </tr>\n",
       "    <tr>\n",
       "      <th>1</th>\n",
       "      <td>Asia</td>\n",
       "      <td>Master's</td>\n",
       "    </tr>\n",
       "    <tr>\n",
       "      <th>2</th>\n",
       "      <td>Asia</td>\n",
       "      <td>Bachelor's</td>\n",
       "    </tr>\n",
       "    <tr>\n",
       "      <th>3</th>\n",
       "      <td>Asia</td>\n",
       "      <td>Bachelor's</td>\n",
       "    </tr>\n",
       "    <tr>\n",
       "      <th>4</th>\n",
       "      <td>Africa</td>\n",
       "      <td>Master's</td>\n",
       "    </tr>\n",
       "    <tr>\n",
       "      <th>...</th>\n",
       "      <td>...</td>\n",
       "      <td>...</td>\n",
       "    </tr>\n",
       "    <tr>\n",
       "      <th>25475</th>\n",
       "      <td>Asia</td>\n",
       "      <td>Bachelor's</td>\n",
       "    </tr>\n",
       "    <tr>\n",
       "      <th>25476</th>\n",
       "      <td>Asia</td>\n",
       "      <td>High School</td>\n",
       "    </tr>\n",
       "    <tr>\n",
       "      <th>25477</th>\n",
       "      <td>Asia</td>\n",
       "      <td>Master's</td>\n",
       "    </tr>\n",
       "    <tr>\n",
       "      <th>25478</th>\n",
       "      <td>Asia</td>\n",
       "      <td>Master's</td>\n",
       "    </tr>\n",
       "    <tr>\n",
       "      <th>25479</th>\n",
       "      <td>Asia</td>\n",
       "      <td>Bachelor's</td>\n",
       "    </tr>\n",
       "  </tbody>\n",
       "</table>\n",
       "<p>25480 rows × 2 columns</p>\n",
       "</div>"
      ],
      "text/plain": [
       "      continent education_of_employee\n",
       "0          Asia           High School\n",
       "1          Asia              Master's\n",
       "2          Asia            Bachelor's\n",
       "3          Asia            Bachelor's\n",
       "4        Africa              Master's\n",
       "...         ...                   ...\n",
       "25475      Asia            Bachelor's\n",
       "25476      Asia           High School\n",
       "25477      Asia              Master's\n",
       "25478      Asia              Master's\n",
       "25479      Asia            Bachelor's\n",
       "\n",
       "[25480 rows x 2 columns]"
      ]
     },
     "execution_count": 6,
     "metadata": {},
     "output_type": "execute_result"
    }
   ],
   "source": [
    "# two three ===== > list\n",
    "list1=['continent','education_of_employee']\n",
    "visa_dataset[list1]\n",
    "\n",
    "#visa_dataset.take(list1,axis=1)  list1=number \n",
    "# iloc we need number\n",
    "# loc we can provide directly names"
   ]
  },
  {
   "cell_type": "code",
   "execution_count": 7,
   "id": "172c6166",
   "metadata": {},
   "outputs": [
    {
     "data": {
      "text/plain": [
       "pandas.core.series.Series"
      ]
     },
     "execution_count": 7,
     "metadata": {},
     "output_type": "execute_result"
    }
   ],
   "source": [
    "type(visa_dataset['continent'])"
   ]
  },
  {
   "cell_type": "markdown",
   "id": "5f2098dd",
   "metadata": {},
   "source": [
    "$unique$"
   ]
  },
  {
   "cell_type": "code",
   "execution_count": 8,
   "id": "b5eef514",
   "metadata": {},
   "outputs": [
    {
     "data": {
      "text/plain": [
       "array(['Asia', 'Africa', 'North America', 'Europe', 'South America',\n",
       "       'Oceania'], dtype=object)"
      ]
     },
     "execution_count": 8,
     "metadata": {},
     "output_type": "execute_result"
    }
   ],
   "source": [
    "visa_dataset['continent'].unique()"
   ]
  },
  {
   "cell_type": "code",
   "execution_count": 9,
   "id": "c49a8bdc",
   "metadata": {},
   "outputs": [
    {
     "data": {
      "text/html": [
       "<div>\n",
       "<style scoped>\n",
       "    .dataframe tbody tr th:only-of-type {\n",
       "        vertical-align: middle;\n",
       "    }\n",
       "\n",
       "    .dataframe tbody tr th {\n",
       "        vertical-align: top;\n",
       "    }\n",
       "\n",
       "    .dataframe thead th {\n",
       "        text-align: right;\n",
       "    }\n",
       "</style>\n",
       "<table border=\"1\" class=\"dataframe\">\n",
       "  <thead>\n",
       "    <tr style=\"text-align: right;\">\n",
       "      <th></th>\n",
       "      <th>case_id</th>\n",
       "      <th>continent</th>\n",
       "      <th>education_of_employee</th>\n",
       "      <th>has_job_experience</th>\n",
       "      <th>requires_job_training</th>\n",
       "      <th>no_of_employees</th>\n",
       "      <th>yr_of_estab</th>\n",
       "      <th>region_of_employment</th>\n",
       "      <th>prevailing_wage</th>\n",
       "      <th>unit_of_wage</th>\n",
       "      <th>full_time_position</th>\n",
       "      <th>case_status</th>\n",
       "    </tr>\n",
       "  </thead>\n",
       "  <tbody>\n",
       "    <tr>\n",
       "      <th>0</th>\n",
       "      <td>EZYV01</td>\n",
       "      <td>Asia</td>\n",
       "      <td>High School</td>\n",
       "      <td>N</td>\n",
       "      <td>N</td>\n",
       "      <td>14513</td>\n",
       "      <td>2007</td>\n",
       "      <td>West</td>\n",
       "      <td>592.2029</td>\n",
       "      <td>Hour</td>\n",
       "      <td>Y</td>\n",
       "      <td>Denied</td>\n",
       "    </tr>\n",
       "    <tr>\n",
       "      <th>1</th>\n",
       "      <td>EZYV02</td>\n",
       "      <td>Asia</td>\n",
       "      <td>Master's</td>\n",
       "      <td>Y</td>\n",
       "      <td>N</td>\n",
       "      <td>2412</td>\n",
       "      <td>2002</td>\n",
       "      <td>Northeast</td>\n",
       "      <td>83425.6500</td>\n",
       "      <td>Year</td>\n",
       "      <td>Y</td>\n",
       "      <td>Certified</td>\n",
       "    </tr>\n",
       "    <tr>\n",
       "      <th>2</th>\n",
       "      <td>EZYV03</td>\n",
       "      <td>Asia</td>\n",
       "      <td>Bachelor's</td>\n",
       "      <td>N</td>\n",
       "      <td>Y</td>\n",
       "      <td>44444</td>\n",
       "      <td>2008</td>\n",
       "      <td>West</td>\n",
       "      <td>122996.8600</td>\n",
       "      <td>Year</td>\n",
       "      <td>Y</td>\n",
       "      <td>Denied</td>\n",
       "    </tr>\n",
       "    <tr>\n",
       "      <th>3</th>\n",
       "      <td>EZYV04</td>\n",
       "      <td>Asia</td>\n",
       "      <td>Bachelor's</td>\n",
       "      <td>N</td>\n",
       "      <td>N</td>\n",
       "      <td>98</td>\n",
       "      <td>1897</td>\n",
       "      <td>West</td>\n",
       "      <td>83434.0300</td>\n",
       "      <td>Year</td>\n",
       "      <td>Y</td>\n",
       "      <td>Denied</td>\n",
       "    </tr>\n",
       "    <tr>\n",
       "      <th>4</th>\n",
       "      <td>EZYV05</td>\n",
       "      <td>Africa</td>\n",
       "      <td>Master's</td>\n",
       "      <td>Y</td>\n",
       "      <td>N</td>\n",
       "      <td>1082</td>\n",
       "      <td>2005</td>\n",
       "      <td>South</td>\n",
       "      <td>149907.3900</td>\n",
       "      <td>Year</td>\n",
       "      <td>Y</td>\n",
       "      <td>Certified</td>\n",
       "    </tr>\n",
       "  </tbody>\n",
       "</table>\n",
       "</div>"
      ],
      "text/plain": [
       "  case_id continent education_of_employee has_job_experience  \\\n",
       "0  EZYV01      Asia           High School                  N   \n",
       "1  EZYV02      Asia              Master's                  Y   \n",
       "2  EZYV03      Asia            Bachelor's                  N   \n",
       "3  EZYV04      Asia            Bachelor's                  N   \n",
       "4  EZYV05    Africa              Master's                  Y   \n",
       "\n",
       "  requires_job_training  no_of_employees  yr_of_estab region_of_employment  \\\n",
       "0                     N            14513         2007                 West   \n",
       "1                     N             2412         2002            Northeast   \n",
       "2                     Y            44444         2008                 West   \n",
       "3                     N               98         1897                 West   \n",
       "4                     N             1082         2005                South   \n",
       "\n",
       "   prevailing_wage unit_of_wage full_time_position case_status  \n",
       "0         592.2029         Hour                  Y      Denied  \n",
       "1       83425.6500         Year                  Y   Certified  \n",
       "2      122996.8600         Year                  Y      Denied  \n",
       "3       83434.0300         Year                  Y      Denied  \n",
       "4      149907.3900         Year                  Y   Certified  "
      ]
     },
     "execution_count": 9,
     "metadata": {},
     "output_type": "execute_result"
    }
   ],
   "source": [
    "visa_dataset.head()"
   ]
  },
  {
   "cell_type": "markdown",
   "id": "05ca751f",
   "metadata": {},
   "source": [
    "$nunique$"
   ]
  },
  {
   "cell_type": "code",
   "execution_count": 10,
   "id": "1d5a067b",
   "metadata": {},
   "outputs": [
    {
     "data": {
      "text/plain": [
       "6"
      ]
     },
     "execution_count": 10,
     "metadata": {},
     "output_type": "execute_result"
    }
   ],
   "source": [
    "visa_dataset['continent'].nunique()"
   ]
  },
  {
   "cell_type": "code",
   "execution_count": 11,
   "id": "51c312e6",
   "metadata": {},
   "outputs": [
    {
     "data": {
      "text/plain": [
       "6"
      ]
     },
     "execution_count": 11,
     "metadata": {},
     "output_type": "execute_result"
    }
   ],
   "source": [
    "len(visa_dataset['continent'].unique())\n",
    "\n",
    "# array ===== numpy"
   ]
  },
  {
   "cell_type": "code",
   "execution_count": 12,
   "id": "175ab162",
   "metadata": {},
   "outputs": [
    {
     "data": {
      "text/plain": [
       "[1, 2, 3, 4]"
      ]
     },
     "execution_count": 12,
     "metadata": {},
     "output_type": "execute_result"
    }
   ],
   "source": [
    "list1=[1,2,3,4]\n",
    "list1"
   ]
  },
  {
   "cell_type": "code",
   "execution_count": 13,
   "id": "35d9e769",
   "metadata": {},
   "outputs": [
    {
     "data": {
      "text/plain": [
       "array([1, 2, 3, 4])"
      ]
     },
     "execution_count": 13,
     "metadata": {},
     "output_type": "execute_result"
    }
   ],
   "source": [
    "np.array(list1)  "
   ]
  },
  {
   "cell_type": "code",
   "execution_count": 14,
   "id": "9c695b25",
   "metadata": {},
   "outputs": [],
   "source": [
    "# how many rows of Asia has\n",
    "# how many rows of Africa has"
   ]
  },
  {
   "cell_type": "markdown",
   "id": "b5e15fb0",
   "metadata": {},
   "source": [
    "$Value$-$counts$"
   ]
  },
  {
   "cell_type": "code",
   "execution_count": 15,
   "id": "4fb7dc3e",
   "metadata": {},
   "outputs": [],
   "source": [
    "continent_values=visa_dataset['continent'].value_counts()"
   ]
  },
  {
   "cell_type": "code",
   "execution_count": 16,
   "id": "a9d11ae5",
   "metadata": {},
   "outputs": [
    {
     "data": {
      "text/plain": [
       "Asia             16861\n",
       "Europe            3732\n",
       "North America     3292\n",
       "South America      852\n",
       "Africa             551\n",
       "Oceania            192\n",
       "Name: continent, dtype: int64"
      ]
     },
     "execution_count": 16,
     "metadata": {},
     "output_type": "execute_result"
    }
   ],
   "source": [
    "continent_values   # series type"
   ]
  },
  {
   "cell_type": "code",
   "execution_count": 17,
   "id": "51195fd2",
   "metadata": {},
   "outputs": [
    {
     "data": {
      "text/plain": [
       "{'Asia': 16861,\n",
       " 'Europe': 3732,\n",
       " 'North America': 3292,\n",
       " 'South America': 852,\n",
       " 'Africa': 551,\n",
       " 'Oceania': 192}"
      ]
     },
     "execution_count": 17,
     "metadata": {},
     "output_type": "execute_result"
    }
   ],
   "source": [
    "# series type convert into dictionary   type casting\n",
    "continet_values_dict=dict(continent_values)\n",
    "\n",
    "# keep all keys in one list\n",
    "# keep all values in another list\n",
    "continet_values_dict"
   ]
  },
  {
   "cell_type": "code",
   "execution_count": 18,
   "id": "feadde88",
   "metadata": {},
   "outputs": [
    {
     "data": {
      "text/plain": [
       "dict_keys(['Asia', 'Europe', 'North America', 'South America', 'Africa', 'Oceania'])"
      ]
     },
     "execution_count": 18,
     "metadata": {},
     "output_type": "execute_result"
    }
   ],
   "source": [
    "continet_values_dict.keys()"
   ]
  },
  {
   "cell_type": "code",
   "execution_count": 19,
   "id": "aa8a6bf3",
   "metadata": {},
   "outputs": [
    {
     "data": {
      "text/plain": [
       "['Asia', 'Europe', 'North America', 'South America', 'Africa', 'Oceania']"
      ]
     },
     "execution_count": 19,
     "metadata": {},
     "output_type": "execute_result"
    }
   ],
   "source": [
    "continent_keys=list(continet_values_dict.keys())\n",
    "continent_keys"
   ]
  },
  {
   "cell_type": "code",
   "execution_count": 20,
   "id": "e1f2d1c2",
   "metadata": {},
   "outputs": [
    {
     "data": {
      "text/plain": [
       "dict_values([16861, 3732, 3292, 852, 551, 192])"
      ]
     },
     "execution_count": 20,
     "metadata": {},
     "output_type": "execute_result"
    }
   ],
   "source": [
    "continet_values_dict.values()"
   ]
  },
  {
   "cell_type": "code",
   "execution_count": 21,
   "id": "a9b7c5ac",
   "metadata": {},
   "outputs": [
    {
     "data": {
      "text/plain": [
       "[16861, 3732, 3292, 852, 551, 192]"
      ]
     },
     "execution_count": 21,
     "metadata": {},
     "output_type": "execute_result"
    }
   ],
   "source": [
    "# type cast to list\n",
    "continent_v=list(continet_values_dict.values())\n",
    "continent_v"
   ]
  },
  {
   "cell_type": "code",
   "execution_count": 22,
   "id": "f056b6e4",
   "metadata": {},
   "outputs": [
    {
     "data": {
      "text/html": [
       "<div>\n",
       "<style scoped>\n",
       "    .dataframe tbody tr th:only-of-type {\n",
       "        vertical-align: middle;\n",
       "    }\n",
       "\n",
       "    .dataframe tbody tr th {\n",
       "        vertical-align: top;\n",
       "    }\n",
       "\n",
       "    .dataframe thead th {\n",
       "        text-align: right;\n",
       "    }\n",
       "</style>\n",
       "<table border=\"1\" class=\"dataframe\">\n",
       "  <thead>\n",
       "    <tr style=\"text-align: right;\">\n",
       "      <th></th>\n",
       "      <th>continent</th>\n",
       "      <th>count</th>\n",
       "    </tr>\n",
       "  </thead>\n",
       "  <tbody>\n",
       "    <tr>\n",
       "      <th>0</th>\n",
       "      <td>Asia</td>\n",
       "      <td>16861</td>\n",
       "    </tr>\n",
       "    <tr>\n",
       "      <th>1</th>\n",
       "      <td>Europe</td>\n",
       "      <td>3732</td>\n",
       "    </tr>\n",
       "    <tr>\n",
       "      <th>2</th>\n",
       "      <td>North America</td>\n",
       "      <td>3292</td>\n",
       "    </tr>\n",
       "    <tr>\n",
       "      <th>3</th>\n",
       "      <td>South America</td>\n",
       "      <td>852</td>\n",
       "    </tr>\n",
       "    <tr>\n",
       "      <th>4</th>\n",
       "      <td>Africa</td>\n",
       "      <td>551</td>\n",
       "    </tr>\n",
       "    <tr>\n",
       "      <th>5</th>\n",
       "      <td>Oceania</td>\n",
       "      <td>192</td>\n",
       "    </tr>\n",
       "  </tbody>\n",
       "</table>\n",
       "</div>"
      ],
      "text/plain": [
       "       continent  count\n",
       "0           Asia  16861\n",
       "1         Europe   3732\n",
       "2  North America   3292\n",
       "3  South America    852\n",
       "4         Africa    551\n",
       "5        Oceania    192"
      ]
     },
     "execution_count": 22,
     "metadata": {},
     "output_type": "execute_result"
    }
   ],
   "source": [
    "# create a dataframe\n",
    "continent_df=pd.DataFrame(zip(continent_keys,continent_v),\n",
    "            columns=['continent','count'])\n",
    "\n",
    "continent_df"
   ]
  },
  {
   "cell_type": "code",
   "execution_count": 23,
   "id": "aeb7e804",
   "metadata": {},
   "outputs": [],
   "source": [
    "# Save the dataframe\n",
    "continent_df.to_csv(\"continent_info.csv\")\n",
    "# file_name=continent_info\n",
    "# file extention is csv\n",
    "# location: same as python file location"
   ]
  },
  {
   "cell_type": "markdown",
   "id": "68663e5b",
   "metadata": {},
   "source": [
    "- step-1:  value counts\n",
    "    \n",
    "- step-2:  it is a series type , I can conver into dictionary\n",
    "    \n",
    "- step-3: key:value pair, extract keys and values sepeartely\n",
    "        \n",
    "- step-4: keys type is dict_keys and values type is dict_values\n",
    "    \n",
    "- step-5: apply list type cast\n",
    "    \n",
    "- step-6: create a dataframe\n",
    "    \n",
    "- step-7: save the dataframe"
   ]
  },
  {
   "cell_type": "code",
   "execution_count": 25,
   "id": "8907fd89",
   "metadata": {},
   "outputs": [],
   "source": [
    "# Method-1\n",
    "continent_values=visa_dataset['continent'].value_counts()\n",
    "continet_values_dict=dict(continent_values)\n",
    "continent_keys=list(continet_values_dict.keys())\n",
    "continent_v=list(continet_values_dict.values())\n",
    "continent_df=pd.DataFrame(zip(continent_keys,continent_v),\n",
    "            columns=['continent','count'])\n",
    "\n",
    "continent_df.to_csv(\"C:\\\\Users\\\\ASUS\\\\Documents\\\\continent_info.csv\")\n",
    "\n",
    "#<file_path>\\\\<file_name>.<extenstion>\n",
    "# ever where double slash"
   ]
  },
  {
   "cell_type": "code",
   "execution_count": 26,
   "id": "0154902f",
   "metadata": {},
   "outputs": [
    {
     "name": "stdout",
     "output_type": "stream",
     "text": [
      "{'Asia': 16861, 'Europe': 3732, 'North America': 3292, 'South America': 852, 'Africa': 551, 'Oceania': 192}\n"
     ]
    },
    {
     "data": {
      "text/html": [
       "<div>\n",
       "<style scoped>\n",
       "    .dataframe tbody tr th:only-of-type {\n",
       "        vertical-align: middle;\n",
       "    }\n",
       "\n",
       "    .dataframe tbody tr th {\n",
       "        vertical-align: top;\n",
       "    }\n",
       "\n",
       "    .dataframe thead th {\n",
       "        text-align: right;\n",
       "    }\n",
       "</style>\n",
       "<table border=\"1\" class=\"dataframe\">\n",
       "  <thead>\n",
       "    <tr style=\"text-align: right;\">\n",
       "      <th></th>\n",
       "      <th>Asia</th>\n",
       "      <th>Europe</th>\n",
       "      <th>North America</th>\n",
       "      <th>South America</th>\n",
       "      <th>Africa</th>\n",
       "      <th>Oceania</th>\n",
       "    </tr>\n",
       "  </thead>\n",
       "  <tbody>\n",
       "    <tr>\n",
       "      <th>count</th>\n",
       "      <td>16861</td>\n",
       "      <td>3732</td>\n",
       "      <td>3292</td>\n",
       "      <td>852</td>\n",
       "      <td>551</td>\n",
       "      <td>192</td>\n",
       "    </tr>\n",
       "  </tbody>\n",
       "</table>\n",
       "</div>"
      ],
      "text/plain": [
       "        Asia  Europe  North America  South America  Africa  Oceania\n",
       "count  16861    3732           3292            852     551      192"
      ]
     },
     "execution_count": 26,
     "metadata": {},
     "output_type": "execute_result"
    }
   ],
   "source": [
    "# Method-2:\n",
    "# Create a dataframe using dict\n",
    "continent_values=visa_dataset['continent'].value_counts()\n",
    "continet_values_dict=dict(continent_values)\n",
    "print(continet_values_dict)\n",
    "pd.DataFrame(continet_values_dict,index=['count'])"
   ]
  },
  {
   "cell_type": "code",
   "execution_count": null,
   "id": "fe47b298",
   "metadata": {},
   "outputs": [],
   "source": [
    "ValueError: If using all scalar values, you must pass an index"
   ]
  },
  {
   "cell_type": "code",
   "execution_count": 27,
   "id": "48903edd",
   "metadata": {},
   "outputs": [
    {
     "data": {
      "text/html": [
       "<div>\n",
       "<style scoped>\n",
       "    .dataframe tbody tr th:only-of-type {\n",
       "        vertical-align: middle;\n",
       "    }\n",
       "\n",
       "    .dataframe tbody tr th {\n",
       "        vertical-align: top;\n",
       "    }\n",
       "\n",
       "    .dataframe thead th {\n",
       "        text-align: right;\n",
       "    }\n",
       "</style>\n",
       "<table border=\"1\" class=\"dataframe\">\n",
       "  <thead>\n",
       "    <tr style=\"text-align: right;\">\n",
       "      <th></th>\n",
       "      <th>names</th>\n",
       "      <th>age</th>\n",
       "    </tr>\n",
       "  </thead>\n",
       "  <tbody>\n",
       "    <tr>\n",
       "      <th>0</th>\n",
       "      <td>Ram</td>\n",
       "      <td>25</td>\n",
       "    </tr>\n",
       "    <tr>\n",
       "      <th>1</th>\n",
       "      <td>Sita</td>\n",
       "      <td>22</td>\n",
       "    </tr>\n",
       "  </tbody>\n",
       "</table>\n",
       "</div>"
      ],
      "text/plain": [
       "  names  age\n",
       "0   Ram   25\n",
       "1  Sita   22"
      ]
     },
     "execution_count": 27,
     "metadata": {},
     "output_type": "execute_result"
    }
   ],
   "source": [
    "dict1={'names':['Ram','Sita'],\n",
    "      'age':[25,22]}\n",
    "pd.DataFrame(dict1)"
   ]
  },
  {
   "cell_type": "code",
   "execution_count": 28,
   "id": "81dedb6e",
   "metadata": {},
   "outputs": [
    {
     "data": {
      "text/plain": [
       "Asia             16861\n",
       "Europe            3732\n",
       "North America     3292\n",
       "South America      852\n",
       "Africa             551\n",
       "Oceania            192\n",
       "Name: continent, dtype: int64"
      ]
     },
     "execution_count": 28,
     "metadata": {},
     "output_type": "execute_result"
    }
   ],
   "source": [
    "# Method-3:\n",
    "continent_values=visa_dataset['continent'].value_counts()\n",
    "continent_values"
   ]
  },
  {
   "cell_type": "code",
   "execution_count": 29,
   "id": "8d30a287",
   "metadata": {},
   "outputs": [
    {
     "data": {
      "text/plain": [
       "Index(['Asia', 'Europe', 'North America', 'South America', 'Africa',\n",
       "       'Oceania'],\n",
       "      dtype='object')"
      ]
     },
     "execution_count": 29,
     "metadata": {},
     "output_type": "execute_result"
    }
   ],
   "source": [
    "continent_values.keys()"
   ]
  },
  {
   "cell_type": "code",
   "execution_count": 30,
   "id": "e515ba16",
   "metadata": {},
   "outputs": [
    {
     "data": {
      "text/plain": [
       "Asia             16861\n",
       "Europe            3732\n",
       "North America     3292\n",
       "South America      852\n",
       "Africa             551\n",
       "Oceania            192\n",
       "Name: continent, dtype: int64"
      ]
     },
     "execution_count": 30,
     "metadata": {},
     "output_type": "execute_result"
    }
   ],
   "source": [
    "visa_dataset['continent'].value_counts()"
   ]
  },
  {
   "cell_type": "code",
   "execution_count": 31,
   "id": "167bc499",
   "metadata": {},
   "outputs": [
    {
     "data": {
      "text/plain": [
       "Index(['Asia', 'Europe', 'North America', 'South America', 'Africa',\n",
       "       'Oceania'],\n",
       "      dtype='object')"
      ]
     },
     "execution_count": 31,
     "metadata": {},
     "output_type": "execute_result"
    }
   ],
   "source": [
    "visa_dataset['continent'].value_counts().keys()"
   ]
  },
  {
   "cell_type": "code",
   "execution_count": 32,
   "id": "328ca81a",
   "metadata": {},
   "outputs": [
    {
     "data": {
      "text/plain": [
       "[16861, 3732, 3292, 852, 551, 192]"
      ]
     },
     "execution_count": 32,
     "metadata": {},
     "output_type": "execute_result"
    }
   ],
   "source": [
    "visa_dataset['continent'].value_counts().to_list()"
   ]
  },
  {
   "cell_type": "code",
   "execution_count": 33,
   "id": "3fe46703",
   "metadata": {},
   "outputs": [
    {
     "data": {
      "text/plain": [
       "(['case_id',\n",
       "  'continent',\n",
       "  'education_of_employee',\n",
       "  'has_job_experience',\n",
       "  'requires_job_training',\n",
       "  'region_of_employment',\n",
       "  'unit_of_wage',\n",
       "  'full_time_position',\n",
       "  'case_status'],\n",
       " ['no_of_employees', 'yr_of_estab', 'prevailing_wage'])"
      ]
     },
     "execution_count": 33,
     "metadata": {},
     "output_type": "execute_result"
    }
   ],
   "source": [
    "cols_dict=dict(visa_dataset.dtypes)\n",
    "\n",
    "#=============================M-1====================================\n",
    "cat_list,num_list=[],[]\n",
    "for key,value in cols_dict.items():\n",
    "    if value=='O':\n",
    "        cat_list.append(key)\n",
    "    else:\n",
    "        num_list.append(key)\n",
    "cat_list,num_list"
   ]
  },
  {
   "cell_type": "code",
   "execution_count": 36,
   "id": "b8bc2a27",
   "metadata": {},
   "outputs": [],
   "source": [
    "for i in cat_list:\n",
    "    col_values=visa_dataset[i].value_counts()\n",
    "    col_values_dict=dict(col_values)\n",
    "    col_keys=list(col_values_dict.keys())\n",
    "    col_v=list(col_values_dict.values())\n",
    "    col_df=pd.DataFrame(zip(col_keys,col_v),\n",
    "                columns=['col1','col2'])\n",
    "    \n",
    "    col_df.to_csv(f\"{i}_info.csv\")\n",
    "                  \n",
    "# cat columns=10\n",
    "# 10th column "
   ]
  },
  {
   "cell_type": "markdown",
   "id": "4cda21eb",
   "metadata": {},
   "source": [
    "### Categorical columns plot\n",
    "\n",
    "- Bar chart\n",
    "\n",
    "- Pie chart"
   ]
  },
  {
   "cell_type": "code",
   "execution_count": 35,
   "id": "e16d14cc",
   "metadata": {},
   "outputs": [
    {
     "data": {
      "text/html": [
       "<div>\n",
       "<style scoped>\n",
       "    .dataframe tbody tr th:only-of-type {\n",
       "        vertical-align: middle;\n",
       "    }\n",
       "\n",
       "    .dataframe tbody tr th {\n",
       "        vertical-align: top;\n",
       "    }\n",
       "\n",
       "    .dataframe thead th {\n",
       "        text-align: right;\n",
       "    }\n",
       "</style>\n",
       "<table border=\"1\" class=\"dataframe\">\n",
       "  <thead>\n",
       "    <tr style=\"text-align: right;\">\n",
       "      <th></th>\n",
       "      <th>continent</th>\n",
       "      <th>count</th>\n",
       "    </tr>\n",
       "  </thead>\n",
       "  <tbody>\n",
       "    <tr>\n",
       "      <th>0</th>\n",
       "      <td>Asia</td>\n",
       "      <td>16861</td>\n",
       "    </tr>\n",
       "    <tr>\n",
       "      <th>1</th>\n",
       "      <td>Europe</td>\n",
       "      <td>3732</td>\n",
       "    </tr>\n",
       "    <tr>\n",
       "      <th>2</th>\n",
       "      <td>North America</td>\n",
       "      <td>3292</td>\n",
       "    </tr>\n",
       "    <tr>\n",
       "      <th>3</th>\n",
       "      <td>South America</td>\n",
       "      <td>852</td>\n",
       "    </tr>\n",
       "    <tr>\n",
       "      <th>4</th>\n",
       "      <td>Africa</td>\n",
       "      <td>551</td>\n",
       "    </tr>\n",
       "    <tr>\n",
       "      <th>5</th>\n",
       "      <td>Oceania</td>\n",
       "      <td>192</td>\n",
       "    </tr>\n",
       "  </tbody>\n",
       "</table>\n",
       "</div>"
      ],
      "text/plain": [
       "       continent  count\n",
       "0           Asia  16861\n",
       "1         Europe   3732\n",
       "2  North America   3292\n",
       "3  South America    852\n",
       "4         Africa    551\n",
       "5        Oceania    192"
      ]
     },
     "execution_count": 35,
     "metadata": {},
     "output_type": "execute_result"
    }
   ],
   "source": [
    "continent_df"
   ]
  },
  {
   "cell_type": "markdown",
   "id": "1e7fbfd6",
   "metadata": {},
   "source": [
    "$Bar-plot$\n",
    "\n",
    "- Categorical columns\n",
    "\n",
    "- from frequency table(data frame)\n",
    "\n",
    "- x-axis: categorical column\n",
    "\n",
    "- y-axis: numerical column\n",
    "\n",
    "- data: name of the dataframe"
   ]
  },
  {
   "cell_type": "code",
   "execution_count": 37,
   "id": "9b57f684",
   "metadata": {},
   "outputs": [
    {
     "data": {
      "image/png": "[encoded data removed]",
      "text/plain": [
       "<Figure size 1000x600 with 1 Axes>"
      ]
     },
     "metadata": {},
     "output_type": "display_data"
    }
   ],
   "source": [
    "#X-axis: continent\n",
    "#Y-axis: count\n",
    "import matplotlib.pyplot as plt\n",
    "plt.figure(figsize=(10,6))   # 10 units : Horizontal  6:Vertical\n",
    "plt.bar('continent',\n",
    "        'count',\n",
    "        data=continent_df)\n",
    "plt.xlabel(\"Continents\")\n",
    "plt.ylabel(\"count\")\n",
    "plt.title(\"Bar plot of continnets\")\n",
    "plt.savefig('barplot_contients.png')  #image png and jpg\n",
    "# figure name: barplot_continents\n",
    "# figure extention: png\n",
    "# where it will save: where my python file existed"
   ]
  },
  {
   "cell_type": "code",
   "execution_count": 5,
   "id": "930e0bcf",
   "metadata": {},
   "outputs": [
    {
     "data": {
      "text/plain": [
       "Index(['case_id', 'continent', 'education_of_employee', 'has_job_experience',\n",
       "       'requires_job_training', 'no_of_employees', 'yr_of_estab',\n",
       "       'region_of_employment', 'prevailing_wage', 'unit_of_wage',\n",
       "       'full_time_position', 'case_status'],\n",
       "      dtype='object')"
      ]
     },
     "execution_count": 5,
     "metadata": {},
     "output_type": "execute_result"
    }
   ],
   "source": [
    "visa_dataset.columns"
   ]
  },
  {
   "cell_type": "markdown",
   "id": "5e7bbbd1",
   "metadata": {},
   "source": [
    "- categorical analysis of data\n",
    "\n",
    "- we read one categorical column\n",
    "\n",
    "- unique and nunique operations\n",
    "\n",
    "- we get value counts\n",
    "\n",
    "- we seen different types method to create dataframes\n",
    "\n",
    "- plot"
   ]
  },
  {
   "cell_type": "code",
   "execution_count": 7,
   "id": "2dd30c80",
   "metadata": {},
   "outputs": [
    {
     "data": {
      "text/plain": [
       "<Axes: xlabel='continent', ylabel='count'>"
      ]
     },
     "execution_count": 7,
     "metadata": {},
     "output_type": "execute_result"
    },
    {
     "data": {
      "image/png": "[encoded data removed]",
      "text/plain": [
       "<Figure size 640x480 with 1 Axes>"
      ]
     },
     "metadata": {},
     "output_type": "display_data"
    }
   ],
   "source": [
    "# which categorical column you want to use : 'continental'\n",
    "#what is the dataset name visa_dataset\n",
    "sns.countplot(data=visa_dataset,x='continent')"
   ]
  },
  {
   "cell_type": "code",
   "execution_count": 9,
   "id": "97ec6b24",
   "metadata": {},
   "outputs": [
    {
     "data": {
      "text/plain": [
       "Index(['Asia', 'Europe', 'North America', 'South America', 'Africa',\n",
       "       'Oceania'],\n",
       "      dtype='object')"
      ]
     },
     "execution_count": 9,
     "metadata": {},
     "output_type": "execute_result"
    }
   ],
   "source": [
    "order_keys=visa_dataset['continent'].value_counts().keys()\n",
    "order_keys"
   ]
  },
  {
   "cell_type": "code",
   "execution_count": 10,
   "id": "1e44849a",
   "metadata": {},
   "outputs": [
    {
     "data": {
      "image/png": "[encoded data removed]",
      "text/plain": [
       "<Figure size 1000x800 with 1 Axes>"
      ]
     },
     "metadata": {},
     "output_type": "display_data"
    }
   ],
   "source": [
    "plt.figure(figsize=(10,8))\n",
    "sns.countplot(data=visa_dataset,\n",
    "             x='continent',\n",
    "             order=order_keys)\n",
    "\n",
    "plt.xlabel(\"continents\")\n",
    "plt.ylabel(\"Count\")\n",
    "plt.title(\"Count plot\")\n",
    "plt.show()"
   ]
  },
  {
   "cell_type": "code",
   "execution_count": null,
   "id": "a11eb549",
   "metadata": {},
   "outputs": [],
   "source": [
    "# M-1: plt.bar :\n",
    "   - when frequency table\n",
    "   - x-axis categorical column\n",
    "   - y-axis: numerical column"
   ]
  },
  {
   "cell_type": "code",
   "execution_count": 13,
   "id": "caee8749",
   "metadata": {},
   "outputs": [
    {
     "data": {
      "text/html": [
       "<div>\n",
       "<style scoped>\n",
       "    .dataframe tbody tr th:only-of-type {\n",
       "        vertical-align: middle;\n",
       "    }\n",
       "\n",
       "    .dataframe tbody tr th {\n",
       "        vertical-align: top;\n",
       "    }\n",
       "\n",
       "    .dataframe thead th {\n",
       "        text-align: right;\n",
       "    }\n",
       "</style>\n",
       "<table border=\"1\" class=\"dataframe\">\n",
       "  <thead>\n",
       "    <tr style=\"text-align: right;\">\n",
       "      <th></th>\n",
       "      <th>type</th>\n",
       "      <th>Count</th>\n",
       "    </tr>\n",
       "  </thead>\n",
       "  <tbody>\n",
       "    <tr>\n",
       "      <th>0</th>\n",
       "      <td>Certified</td>\n",
       "      <td>17018</td>\n",
       "    </tr>\n",
       "    <tr>\n",
       "      <th>1</th>\n",
       "      <td>Denied</td>\n",
       "      <td>8462</td>\n",
       "    </tr>\n",
       "  </tbody>\n",
       "</table>\n",
       "</div>"
      ],
      "text/plain": [
       "        type  Count\n",
       "0  Certified  17018\n",
       "1     Denied   8462"
      ]
     },
     "execution_count": 13,
     "metadata": {},
     "output_type": "execute_result"
    }
   ],
   "source": [
    "# create a frequency table for case status\n",
    "visa_dataset['case_status'].value_counts()\n",
    "name=visa_dataset['case_status'].value_counts().keys()\n",
    "values=visa_dataset['case_status'].value_counts().to_list()\n",
    "case_status_df=pd.DataFrame(zip(name,values),\n",
    "                           columns=['type','Count'])\n",
    "case_status_df\n",
    "\n",
    "# plt.bar('type', Count,data=case_status_df)"
   ]
  },
  {
   "cell_type": "code",
   "execution_count": 30,
   "id": "f102a35a",
   "metadata": {},
   "outputs": [
    {
     "ename": "NameError",
     "evalue": "name 'visa_dataset_df' is not defined",
     "output_type": "error",
     "traceback": [
      "\u001b[1;31m---------------------------------------------------------------------------\u001b[0m",
      "\u001b[1;31mNameError\u001b[0m                                 Traceback (most recent call last)",
      "Cell \u001b[1;32mIn[30], line 1\u001b[0m\n\u001b[1;32m----> 1\u001b[0m plt\u001b[38;5;241m.\u001b[39mbar(\u001b[38;5;124m'\u001b[39m\u001b[38;5;124mtype\u001b[39m\u001b[38;5;124m'\u001b[39m,\u001b[38;5;124m'\u001b[39m\u001b[38;5;124mCount\u001b[39m\u001b[38;5;124m'\u001b[39m,data\u001b[38;5;241m=\u001b[39m\u001b[43mvisa_dataset_df\u001b[49m)\n",
      "\u001b[1;31mNameError\u001b[0m: name 'visa_dataset_df' is not defined"
     ]
    }
   ],
   "source": [
    "plt.bar('type','Count',data=visa_dataset_df)"
   ]
  },
  {
   "cell_type": "code",
   "execution_count": 23,
   "id": "2d0a5adf",
   "metadata": {},
   "outputs": [
    {
     "data": {
      "text/plain": [
       "<Axes: xlabel='case_status', ylabel='count'>"
      ]
     },
     "execution_count": 23,
     "metadata": {},
     "output_type": "execute_result"
    },
    {
     "data": {
      "image/png": "[encoded data removed]",
      "text/plain": [
       "<Figure size 640x480 with 1 Axes>"
      ]
     },
     "metadata": {},
     "output_type": "display_data"
    }
   ],
   "source": [
    "sns.countplot(x='case_status',data=visa_dataset)"
   ]
  },
  {
   "cell_type": "markdown",
   "id": "427bf853",
   "metadata": {},
   "source": [
    "**Difference between plt.bar and sns.countplot**\n",
    "\n",
    "- what is meant by bar plot\n",
    "\n",
    "- what is meant by frequency table\n",
    "\n",
    "- in class there are 30 boys 40 girls are there\n",
    "\n",
    "- but sns.countplot you can directly provide column name\n",
    "\n",
    "- no need to create a data frame"
   ]
  },
  {
   "cell_type": "code",
   "execution_count": null,
   "id": "750c424b",
   "metadata": {},
   "outputs": [],
   "source": [
    "# M-1 : native the bar plots\n",
    "\n",
    "# M-2: sns .countplot with out numbers on the bars\n",
    "\n",
    "# M-3: get the numberson the bars"
   ]
  },
  {
   "cell_type": "code",
   "execution_count": 18,
   "id": "1dc3e18c",
   "metadata": {},
   "outputs": [
    {
     "data": {
      "text/plain": [
       "<Axes: >"
      ]
     },
     "execution_count": 18,
     "metadata": {},
     "output_type": "execute_result"
    },
    {
     "data": {
      "image/png": "[encoded data removed]",
      "text/plain": [
       "<Figure size 640x480 with 1 Axes>"
      ]
     },
     "metadata": {},
     "output_type": "display_data"
    }
   ],
   "source": [
    "visa_dataset['continent'].value_counts().plot(kind='bar')"
   ]
  },
  {
   "cell_type": "code",
   "execution_count": 22,
   "id": "362ed950",
   "metadata": {},
   "outputs": [
    {
     "data": {
      "image/png": "[encoded data removed]",
      "text/plain": [
       "<Figure size 640x480 with 1 Axes>"
      ]
     },
     "metadata": {},
     "output_type": "display_data"
    }
   ],
   "source": [
    "value_count=visa_dataset['continent'].value_counts()\n",
    "ax=value_count.plot(kind='bar')\n",
    "ax.bar_label(ax.containers[0])\n",
    "plt.xlabel(\"continents\")\n",
    "plt.xticks(rotation=0)\n",
    "plt.ylabel(\"count\")\n",
    "plt.title(\"bar plot\")\n",
    "plt.show()"
   ]
  },
  {
   "cell_type": "code",
   "execution_count": 24,
   "id": "4f30c3ac",
   "metadata": {},
   "outputs": [
    {
     "data": {
      "text/plain": [
       "[Text(0, 0, '8462'), Text(0, 0, '17018')]"
      ]
     },
     "execution_count": 24,
     "metadata": {},
     "output_type": "execute_result"
    },
    {
     "data": {
      "image/png": "[encoded data removed]",
      "text/plain": [
       "<Figure size 640x480 with 1 Axes>"
      ]
     },
     "metadata": {},
     "output_type": "display_data"
    }
   ],
   "source": [
    "ax=sns.countplot(x='case_status',data=visa_dataset)\n",
    "ax.bar_label(ax.containers[0])"
   ]
  },
  {
   "cell_type": "code",
   "execution_count": null,
   "id": "0f0fef96",
   "metadata": {},
   "outputs": [],
   "source": [
    "# data reterival process\n",
    "# categorical\n",
    "# numerical\n",
    "# univariate\n",
    "# bivariate"
   ]
  },
  {
   "cell_type": "markdown",
   "id": "bc4c5441",
   "metadata": {},
   "source": [
    "**pie-chart**"
   ]
  },
  {
   "cell_type": "code",
   "execution_count": 27,
   "id": "f08e5b91",
   "metadata": {},
   "outputs": [
    {
     "data": {
      "text/plain": [
       "Asia             0.661735\n",
       "Europe           0.146468\n",
       "North America    0.129199\n",
       "South America    0.033438\n",
       "Africa           0.021625\n",
       "Oceania          0.007535\n",
       "Name: continent, dtype: float64"
      ]
     },
     "execution_count": 27,
     "metadata": {},
     "output_type": "execute_result"
    }
   ],
   "source": [
    "visa_dataset['continent'].value_counts(normalize=True)"
   ]
  },
  {
   "cell_type": "code",
   "execution_count": 32,
   "id": "d1c92c72",
   "metadata": {},
   "outputs": [
    {
     "data": {
      "text/plain": [
       "(Index(['Asia', 'Europe', 'North America', 'South America', 'Africa',\n",
       "        'Oceania'],\n",
       "       dtype='object'),\n",
       " [16861, 3732, 3292, 852, 551, 192])"
      ]
     },
     "execution_count": 32,
     "metadata": {},
     "output_type": "execute_result"
    }
   ],
   "source": [
    "visa_dataset['continent'].value_counts()\n",
    "names=visa_dataset['continent'].value_counts().keys()\n",
    "values=visa_dataset['continent'].value_counts().to_list()\n",
    "names,values"
   ]
  },
  {
   "cell_type": "code",
   "execution_count": 36,
   "id": "9a2893db",
   "metadata": {},
   "outputs": [
    {
     "data": {
      "image/png": "[encoded data removed]",
      "text/plain": [
       "<Figure size 640x480 with 1 Axes>"
      ]
     },
     "metadata": {},
     "output_type": "display_data"
    }
   ],
   "source": [
    "plt.pie(x=values,\n",
    "        labels=names,\n",
    "        autopct='%0.2f%%',\n",
    "       explode=[0.1,0.1,0.1,0.1,0.1,0.1],\n",
    "       startangle=30)  #%<>%\n",
    "plt.show()"
   ]
  },
  {
   "cell_type": "code",
   "execution_count": null,
   "id": "edeede2b",
   "metadata": {},
   "outputs": [],
   "source": []
  },
  {
   "cell_type": "code",
   "execution_count": null,
   "id": "faa96631",
   "metadata": {},
   "outputs": [],
   "source": []
  },
  {
   "cell_type": "code",
   "execution_count": null,
   "id": "9162605f",
   "metadata": {},
   "outputs": [],
   "source": []
  },
  {
   "cell_type": "code",
   "execution_count": null,
   "id": "76e5b8e6",
   "metadata": {},
   "outputs": [],
   "source": []
  },
  {
   "cell_type": "code",
   "execution_count": null,
   "id": "93313076",
   "metadata": {},
   "outputs": [],
   "source": []
  }
 ],
 "metadata": {
  "kernelspec": {
   "display_name": "Python 3 (ipykernel)",
   "language": "python",
   "name": "python3"
  },
  "language_info": {
   "codemirror_mode": {
    "name": "ipython",
    "version": 3
   },
   "file_extension": ".py",
   "mimetype": "text/x-python",
   "name": "python",
   "nbconvert_exporter": "python",
   "pygments_lexer": "ipython3",
   "version": "3.10.9"
  }
 },
 "nbformat": 4,
 "nbformat_minor": 5
}
